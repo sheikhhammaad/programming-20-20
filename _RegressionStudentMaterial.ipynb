{
  "nbformat": 4,
  "nbformat_minor": 0,
  "metadata": {
    "colab": {
      "name": "#RegressionStudentMaterial.ipynb",
      "provenance": [],
      "collapsed_sections": [],
      "include_colab_link": true
    },
    "kernelspec": {
      "name": "python3",
      "display_name": "Python 3"
    }
  },
  "cells": [
    {
      "cell_type": "markdown",
      "metadata": {
        "id": "view-in-github",
        "colab_type": "text"
      },
      "source": [
        "<a href=\"https://colab.research.google.com/github/sheikhhammaad/programming-20-20/blob/master/_RegressionStudentMaterial.ipynb\" target=\"_parent\"><img src=\"https://colab.research.google.com/assets/colab-badge.svg\" alt=\"Open In Colab\"/></a>"
      ]
    },
    {
      "cell_type": "markdown",
      "metadata": {
        "id": "GMu_39pfBXAy",
        "colab_type": "text"
      },
      "source": [
        "# Regression Study Material"
      ]
    },
    {
      "cell_type": "markdown",
      "metadata": {
        "id": "N-gZslzWnPhK",
        "colab_type": "text"
      },
      "source": [
        "# Simple Linear Regression With scikit-learn"
      ]
    },
    {
      "cell_type": "code",
      "metadata": {
        "id": "m2kk6rrknqti",
        "colab_type": "code",
        "colab": {}
      },
      "source": [
        "import numpy as np\n",
        "from sklearn.linear_model import LinearRegression"
      ],
      "execution_count": null,
      "outputs": []
    },
    {
      "cell_type": "markdown",
      "metadata": {
        "id": "99LBwH4ynPos",
        "colab_type": "text"
      },
      "source": [
        "There are five basic steps when you’re implementing linear regression:\n",
        "\n",
        "    Import the packages and classes you need.\n",
        "\n",
        "    Provide data to work with and eventually do appropriate transformations.\n",
        "\n",
        "    Create a regression model and fit it with existing data.\n",
        "\n",
        "    Check the results of model fitting to know whether the model is satisfactory.\n",
        "\n",
        "    Apply the model for predictions."
      ]
    },
    {
      "cell_type": "markdown",
      "metadata": {
        "id": "mL_xxHYXnp_o",
        "colab_type": "text"
      },
      "source": [
        "Step 1: Import packages and classes"
      ]
    },
    {
      "cell_type": "markdown",
      "metadata": {
        "id": "XCYE_mugnuXR",
        "colab_type": "text"
      },
      "source": [
        "Step 2: Provide data"
      ]
    },
    {
      "cell_type": "code",
      "metadata": {
        "id": "2T0-lcSFfjZ4",
        "colab_type": "code",
        "colab": {}
      },
      "source": [
        "X = np.array([5, 15, 25, 35, 45, 55]).reshape((-1, 1))\n",
        "y = np.array([5, 20, 14, 32, 22, 38])"
      ],
      "execution_count": null,
      "outputs": []
    },
    {
      "cell_type": "markdown",
      "metadata": {
        "id": "EhjgwJetoTK_",
        "colab_type": "text"
      },
      "source": [
        "Step 3: Create a model and fit it"
      ]
    },
    {
      "cell_type": "code",
      "metadata": {
        "id": "yX679jiEoMwJ",
        "colab_type": "code",
        "colab": {}
      },
      "source": [
        "model = LinearRegression()"
      ],
      "execution_count": null,
      "outputs": []
    },
    {
      "cell_type": "code",
      "metadata": {
        "id": "qTIqNErzz3hI",
        "colab_type": "code",
        "colab": {
          "base_uri": "https://localhost:8080/",
          "height": 34
        },
        "outputId": "8b1522c1-7f8e-4355-e26c-d0851f7d5563"
      },
      "source": [
        "model"
      ],
      "execution_count": null,
      "outputs": [
        {
          "output_type": "execute_result",
          "data": {
            "text/plain": [
              "LinearRegression(copy_X=True, fit_intercept=True, n_jobs=None, normalize=False)"
            ]
          },
          "metadata": {
            "tags": []
          },
          "execution_count": 181
        }
      ]
    },
    {
      "cell_type": "code",
      "metadata": {
        "id": "buxK6phMoncS",
        "colab_type": "code",
        "colab": {
          "base_uri": "https://localhost:8080/",
          "height": 34
        },
        "outputId": "86117f4a-8c54-4939-cfac-d123f6108942"
      },
      "source": [
        "model.fit(X, y)"
      ],
      "execution_count": null,
      "outputs": [
        {
          "output_type": "execute_result",
          "data": {
            "text/plain": [
              "LinearRegression(copy_X=True, fit_intercept=True, n_jobs=None, normalize=False)"
            ]
          },
          "metadata": {
            "tags": []
          },
          "execution_count": 48
        }
      ]
    },
    {
      "cell_type": "code",
      "metadata": {
        "id": "W4tEphD6pk-a",
        "colab_type": "code",
        "colab": {}
      },
      "source": [
        "model = LinearRegression().fit(X, y)"
      ],
      "execution_count": null,
      "outputs": []
    },
    {
      "cell_type": "markdown",
      "metadata": {
        "id": "uQ-hFIKYqahH",
        "colab_type": "text"
      },
      "source": [
        "# Step 4: Get results"
      ]
    },
    {
      "cell_type": "code",
      "metadata": {
        "id": "dCjZjX7orQ60",
        "colab_type": "code",
        "colab": {
          "base_uri": "https://localhost:8080/",
          "height": 34
        },
        "outputId": "f46a31ab-25eb-4c79-c8ed-aa585056e553"
      },
      "source": [
        "R_sq = model.score(X, y)\n",
        "print('coefficient of determination:', R_sq)"
      ],
      "execution_count": null,
      "outputs": [
        {
          "output_type": "stream",
          "text": [
            "coefficient of determination: 0.7158756137479542\n"
          ],
          "name": "stdout"
        }
      ]
    },
    {
      "cell_type": "code",
      "metadata": {
        "id": "gED72qV1rau6",
        "colab_type": "code",
        "colab": {
          "base_uri": "https://localhost:8080/",
          "height": 52
        },
        "outputId": "43221b07-c0bd-432a-e274-aefed17405fd"
      },
      "source": [
        "print('intercept:', model.intercept_)\n",
        "\n",
        "print('slope:', model.coef_)"
      ],
      "execution_count": null,
      "outputs": [
        {
          "output_type": "stream",
          "text": [
            "intercept: 5.633333333333329\n",
            "slope: [0.54]\n"
          ],
          "name": "stdout"
        }
      ]
    },
    {
      "cell_type": "code",
      "metadata": {
        "id": "OY93i5Ydry3B",
        "colab_type": "code",
        "colab": {
          "base_uri": "https://localhost:8080/",
          "height": 52
        },
        "outputId": "921a854b-448d-4a07-c0f8-e41b76126a25"
      },
      "source": [
        "new_model = LinearRegression().fit(X, y.reshape((-1, 1)))\n",
        "print('intercept:', new_model.intercept_)\n",
        "\n",
        "print('slope:', new_model.coef_)"
      ],
      "execution_count": null,
      "outputs": [
        {
          "output_type": "stream",
          "text": [
            "intercept: [5.63333333]\n",
            "slope: [[0.54]]\n"
          ],
          "name": "stdout"
        }
      ]
    },
    {
      "cell_type": "markdown",
      "metadata": {
        "id": "i0kIbPpTs6Bx",
        "colab_type": "text"
      },
      "source": [
        "# Step 5: Predict response"
      ]
    },
    {
      "cell_type": "code",
      "metadata": {
        "id": "USPqnxHPs8-H",
        "colab_type": "code",
        "colab": {
          "base_uri": "https://localhost:8080/",
          "height": 52
        },
        "outputId": "16dc24e7-4fdc-49ed-b9e8-3c3625c8f733"
      },
      "source": [
        "y_pred = model.predict(X)\n",
        "print('predicted response:', y_pred, sep='\\n')"
      ],
      "execution_count": null,
      "outputs": [
        {
          "output_type": "stream",
          "text": [
            "predicted response:\n",
            "[ 8.33333333 13.73333333 19.13333333 24.53333333 29.93333333 35.33333333]\n"
          ],
          "name": "stdout"
        }
      ]
    },
    {
      "cell_type": "code",
      "metadata": {
        "id": "w25ikrqmtE-3",
        "colab_type": "code",
        "colab": {
          "base_uri": "https://localhost:8080/",
          "height": 141
        },
        "outputId": "c3fbabc6-013f-4637-f277-a6c3e5950c4e"
      },
      "source": [
        "y_pred = model.intercept_ + model.coef_ * X\n",
        "print('predicted response:', y_pred, sep='\\n')"
      ],
      "execution_count": null,
      "outputs": [
        {
          "output_type": "stream",
          "text": [
            "predicted response:\n",
            "[[ 8.33333333]\n",
            " [13.73333333]\n",
            " [19.13333333]\n",
            " [24.53333333]\n",
            " [29.93333333]\n",
            " [35.33333333]]\n"
          ],
          "name": "stdout"
        }
      ]
    },
    {
      "cell_type": "code",
      "metadata": {
        "id": "HSYUHpEwxCvN",
        "colab_type": "code",
        "colab": {}
      },
      "source": [
        "X_new = [[5], [30]]"
      ],
      "execution_count": null,
      "outputs": []
    },
    {
      "cell_type": "code",
      "metadata": {
        "id": "cx_kj8i-xbSd",
        "colab_type": "code",
        "colab": {
          "base_uri": "https://localhost:8080/",
          "height": 34
        },
        "outputId": "6341cfdc-f80b-499a-db94-bee8bfd82b00"
      },
      "source": [
        "y_new = model.predict(X_new)\n",
        "print(y_new)"
      ],
      "execution_count": null,
      "outputs": [
        {
          "output_type": "stream",
          "text": [
            "[ 8.33333333 21.83333333]\n"
          ],
          "name": "stdout"
        }
      ]
    },
    {
      "cell_type": "code",
      "metadata": {
        "id": "PCl9X17ttUOo",
        "colab_type": "code",
        "colab": {
          "base_uri": "https://localhost:8080/",
          "height": 105
        },
        "outputId": "adfc03b6-9352-4c29-b995-634846649e44"
      },
      "source": [
        "X_new = np.arange(5).reshape((-1, 1))\n",
        "print(X_new)"
      ],
      "execution_count": null,
      "outputs": [
        {
          "output_type": "stream",
          "text": [
            "[[0]\n",
            " [1]\n",
            " [2]\n",
            " [3]\n",
            " [4]]\n"
          ],
          "name": "stdout"
        }
      ]
    },
    {
      "cell_type": "code",
      "metadata": {
        "id": "cp0lgtVHtfLo",
        "colab_type": "code",
        "colab": {
          "base_uri": "https://localhost:8080/",
          "height": 34
        },
        "outputId": "e3aa3bfa-92e6-4d56-ea80-eae0d20477e2"
      },
      "source": [
        "y_new = model.predict(X_new)\n",
        "print(y_new)"
      ],
      "execution_count": null,
      "outputs": [
        {
          "output_type": "stream",
          "text": [
            "[5.63333333 6.17333333 6.71333333 7.25333333 7.79333333]\n"
          ],
          "name": "stdout"
        }
      ]
    }
  ]
}